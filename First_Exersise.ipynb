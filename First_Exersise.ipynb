{
 "cells": [
  {
   "cell_type": "code",
   "execution_count": 1,
   "metadata": {},
   "outputs": [
    {
     "data": {
      "text/plain": [
       "2401"
      ]
     },
     "execution_count": 1,
     "metadata": {},
     "output_type": "execute_result"
    }
   ],
   "source": [
    "# ** What is 7 to the power of 4?**\n",
    "7**4"
   ]
  },
  {
   "cell_type": "code",
   "execution_count": 3,
   "metadata": {},
   "outputs": [
    {
     "data": {
      "text/plain": [
       "['Hi', 'there', 'Yogesh!']"
      ]
     },
     "execution_count": 3,
     "metadata": {},
     "output_type": "execute_result"
    }
   ],
   "source": [
    "# ** Split this string:**\n",
    "\n",
    "s = \"Hi there Yogesh!\"\n",
    "# *into a list. *\n",
    "s.split()"
   ]
  },
  {
   "cell_type": "code",
   "execution_count": 4,
   "metadata": {},
   "outputs": [],
   "source": [
    "# ** Given the variables:**\n",
    "\n",
    "planet = \"Earth\"\n",
    "diameter = 12742\n",
    "# ** Use .format() to print the following string: **\n",
    "\n",
    "# The diameter of Earth is 12742 kilometers."
   ]
  },
  {
   "cell_type": "code",
   "execution_count": 5,
   "metadata": {},
   "outputs": [
    {
     "name": "stdout",
     "output_type": "stream",
     "text": [
      "The diameter of Earth is 12742 kilometers\n"
     ]
    }
   ],
   "source": [
    "print('The diameter of {} is {} kilometers'.format(planet,diameter))"
   ]
  },
  {
   "cell_type": "code",
   "execution_count": 6,
   "metadata": {},
   "outputs": [],
   "source": [
    "lst = [1,2,[3,4],[5,[100,200,['hello']],23,11],1,7]"
   ]
  },
  {
   "cell_type": "code",
   "execution_count": 13,
   "metadata": {},
   "outputs": [
    {
     "data": {
      "text/plain": [
       "'hello'"
      ]
     },
     "execution_count": 13,
     "metadata": {},
     "output_type": "execute_result"
    }
   ],
   "source": [
    "lst[3][1][2][0]"
   ]
  },
  {
   "cell_type": "code",
   "execution_count": 15,
   "metadata": {},
   "outputs": [
    {
     "name": "stdout",
     "output_type": "stream",
     "text": [
      "hello\n"
     ]
    }
   ],
   "source": [
    "print(lst[3][1][2][0])"
   ]
  },
  {
   "cell_type": "code",
   "execution_count": 16,
   "metadata": {},
   "outputs": [],
   "source": [
    "#  ** Given this nested dictionary grab the word \"hello\". Be prepared, this will be annoying/tricky **\n",
    "\n",
    "d = {'k1':[1,2,3,{'tricky':['oh','man','inception',{'target':[1,2,3,'hello']}]}]}"
   ]
  },
  {
   "cell_type": "code",
   "execution_count": 20,
   "metadata": {},
   "outputs": [
    {
     "data": {
      "text/plain": [
       "'hello'"
      ]
     },
     "execution_count": 20,
     "metadata": {},
     "output_type": "execute_result"
    }
   ],
   "source": [
    "d['k1'][3]['tricky'][3]['target'][3]"
   ]
  },
  {
   "cell_type": "code",
   "execution_count": 21,
   "metadata": {},
   "outputs": [],
   "source": [
    "# ** Create a function that grabs the email website domain from a string in the form: ** user@domain.com\n",
    "def doma(email='deshmukhpranali3@gmail.com'):\n",
    "    l1=email.split('@')\n",
    "    return l1[1]"
   ]
  },
  {
   "cell_type": "code",
   "execution_count": 22,
   "metadata": {},
   "outputs": [
    {
     "data": {
      "text/plain": [
       "'gmail.com'"
      ]
     },
     "execution_count": 22,
     "metadata": {},
     "output_type": "execute_result"
    }
   ],
   "source": [
    "doma()"
   ]
  },
  {
   "cell_type": "code",
   "execution_count": 23,
   "metadata": {},
   "outputs": [
    {
     "data": {
      "text/plain": [
       "'hotmail.com'"
      ]
     },
     "execution_count": 23,
     "metadata": {},
     "output_type": "execute_result"
    }
   ],
   "source": [
    "doma('abc@hotmail.com')"
   ]
  },
  {
   "cell_type": "code",
   "execution_count": 24,
   "metadata": {},
   "outputs": [],
   "source": [
    "# ** Create a basic function that returns True if the word 'dog' is contained in the input string. Don't worry about edge cases like a punctuation being attached to the word dog, but do account for capitalization. **\n",
    "\n",
    "def find_dog(name):\n",
    "    return 'dog' in name.lower()"
   ]
  },
  {
   "cell_type": "code",
   "execution_count": 25,
   "metadata": {},
   "outputs": [
    {
     "data": {
      "text/plain": [
       "True"
      ]
     },
     "execution_count": 25,
     "metadata": {},
     "output_type": "execute_result"
    }
   ],
   "source": [
    "find_dog('This DOG and that dOG')"
   ]
  },
  {
   "cell_type": "code",
   "execution_count": 40,
   "metadata": {},
   "outputs": [],
   "source": [
    "def coun_dog(name):\n",
    "    c=0\n",
    "    for i in name.lower().split():\n",
    "        if i=='dog':\n",
    "            c=c+1\n",
    "    print(c)   "
   ]
  },
  {
   "cell_type": "code",
   "execution_count": 41,
   "metadata": {},
   "outputs": [
    {
     "name": "stdout",
     "output_type": "stream",
     "text": [
      "2\n"
     ]
    }
   ],
   "source": [
    "coun_dog(\"Here are one DOg and two dog\")"
   ]
  },
  {
   "cell_type": "code",
   "execution_count": 28,
   "metadata": {},
   "outputs": [
    {
     "data": {
      "text/plain": [
       "['soup', 'salad']"
      ]
     },
     "execution_count": 28,
     "metadata": {},
     "output_type": "execute_result"
    }
   ],
   "source": [
    "#  ** Use lambda expressions and the filter() function to filter out words from a list that don't start with the letter 's'. For example:**\n",
    "\n",
    "seq = ['soup','dog','salad','cat','great']\n",
    "a=lambda x:x[0][0]=='s'\n",
    "filter(a,seq)\n",
    "list(filter(a,seq))"
   ]
  },
  {
   "cell_type": "code",
   "execution_count": 42,
   "metadata": {},
   "outputs": [],
   "source": [
    "# *You are driving a little too fast, and a police officer stops you. Write a function to return one of 3 possible results: \"No ticket\", \"Small ticket\", or \"Big Ticket\". If your speed is 60 or less, the result is \"No Ticket\". If speed is between 61 and 80 inclusive, the result is \"Small Ticket\". If speed is 81 or more, the result is \"Big Ticket\". Unless it is your birthday (encoded as a boolean value in the parameters of the function) -- on your birthday, your speed can be 5 higher in all cases. *\n",
    "def t_check(speed,bd):\n",
    "    if bd:\n",
    "        speed1=speed-5\n",
    "    if speed1<=60:\n",
    "        print(\"no ticket\")\n",
    "    elif speed1>=61:\n",
    "        print(\"small ticket\")\n",
    "    else:\n",
    "        print('big ticket')"
   ]
  },
  {
   "cell_type": "code",
   "execution_count": 43,
   "metadata": {},
   "outputs": [
    {
     "name": "stdout",
     "output_type": "stream",
     "text": [
      "small ticket\n"
     ]
    }
   ],
   "source": [
    "t_check(85,True)"
   ]
  },
  {
   "cell_type": "code",
   "execution_count": 44,
   "metadata": {},
   "outputs": [
    {
     "name": "stdout",
     "output_type": "stream",
     "text": [
      "enter string:-sjjqk2345\n",
      "-2345\n"
     ]
    }
   ],
   "source": [
    "#Question\n",
    "#Given a string print number num by extracting all the\n",
    "#digits from the string as in string\n",
    "#Print negative number if the first character in \n",
    "#string is '-'\n",
    "#eg.\n",
    "#-123abcd should return -123,abcd456-->456,fdhfh78dsd89--->7889,-56dssd78-->5678\n",
    "w=input(\"enter string:\")\n",
    "number=\"\"\n",
    "a=['0','1','2','3','4','5','6','7','8','9']\n",
    "if w==\"\":\n",
    "    print(\"Enter some input:\")\n",
    "else:\n",
    "    if w[0]==\"-\":\n",
    "        number=number+w[0]\n",
    "    for char in w:\n",
    "        if char in  a:\n",
    "            number=number+char\n",
    "    print(number)"
   ]
  },
  {
   "cell_type": "code",
   "execution_count": 45,
   "metadata": {},
   "outputs": [
    {
     "name": "stdout",
     "output_type": "stream",
     "text": [
      "enter string:88\n",
      "Number : 847\n",
      "revrse: 748\n",
      "Number : 1595\n",
      "revrse: 5951\n",
      "Number : 7546\n",
      "revrse: 6457\n",
      "Number : 14003\n",
      "revrse: 30041\n",
      "Number : 44044\n",
      "revrse: 44044\n",
      "Palindrome: 44044\n"
     ]
    }
   ],
   "source": [
    "#\n",
    "#Q2\n",
    "#WAP to check whether a number is palindrome or not on following conditions.\n",
    "#1. take input number\n",
    "#2. add number and its reverse\n",
    "#3. check that number is palindrome or not,if not then sum and its reverse\n",
    "\n",
    "s=input(\"enter string:\")\n",
    "s1=int(s[::-1])\n",
    "s2=str(int(s)+s1)\n",
    "while str(s2) !=str(s2[::-1]):\n",
    "    s2=str(int(s2)+int(s2[::-1]))\n",
    "    print(\"Number :\",s2)\n",
    "    print(\"revrse:\",s2[::-1])\n",
    "print(\"Palindrome:\",s2)"
   ]
  },
  {
   "cell_type": "code",
   "execution_count": null,
   "metadata": {},
   "outputs": [],
   "source": []
  }
 ],
 "metadata": {
  "kernelspec": {
   "display_name": "Python 3",
   "language": "python",
   "name": "python3"
  },
  "language_info": {
   "codemirror_mode": {
    "name": "ipython",
    "version": 3
   },
   "file_extension": ".py",
   "mimetype": "text/x-python",
   "name": "python",
   "nbconvert_exporter": "python",
   "pygments_lexer": "ipython3",
   "version": "3.7.6"
  }
 },
 "nbformat": 4,
 "nbformat_minor": 4
}
